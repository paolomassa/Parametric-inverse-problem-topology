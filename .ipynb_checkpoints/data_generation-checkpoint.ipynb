{
 "cells": [
  {
   "cell_type": "markdown",
   "id": "awful-calcium",
   "metadata": {},
   "source": [
    "# Import statements"
   ]
  },
  {
   "cell_type": "code",
   "execution_count": null,
   "id": "attended-ontario",
   "metadata": {},
   "outputs": [],
   "source": [
    "import nets"
   ]
  },
  {
   "cell_type": "markdown",
   "id": "acceptable-brother",
   "metadata": {},
   "source": [
    "# Simple dataset:\n",
    "We fix:\n",
    "- $x_c = y_c = 0$;\n",
    "- $F = 1000$;\n",
    "- $\\sigma = 8$;\n",
    "- $\\varepsilon = 5$;\n",
    "\n",
    "and we randomly generate\n",
    "- $\\alpha \\in [0,180)$\n",
    "- $c\\in [-0.05, 0.05]$.\n",
    "\n",
    "For each array of parameters we compute the correspondig array of visibilities. We do not add noise to the visibility values.\\\n",
    "The training, validation and test set consist of $30000$, $10000$ and $10000$ pairs parameters/visibilities, respectively."
   ]
  },
  {
   "cell_type": "code",
   "execution_count": null,
   "id": "isolated-obligation",
   "metadata": {},
   "outputs": [],
   "source": [
    "# Path of the folder containing this jupiter notebook\n",
    "folder = '/Users/admin/Documents/GitHub/Parametric-inverse-problem-topology/'\n",
    "\n",
    "n_train = 30000\n",
    "n_valid = 10000\n",
    "n_test  = 10000\n",
    "\n",
    "\n",
    "name = 'dataset_loop_simple'\n",
    "nets.VisGenerator_simple(folder + '/data/', n_train, n_valid, n_test, name)"
   ]
  },
  {
   "cell_type": "markdown",
   "id": "academic-granny",
   "metadata": {},
   "source": [
    "# Complete dataset:\n",
    "We randomly generate:\n",
    "- $x_c \\in [-25, 25]$;\n",
    "- $x_c \\in [-25, 25]$;\n",
    "- $F \\in [1000, 15000]$;\n",
    "- $\\sigma \\in [8,15]$;\n",
    "- $\\varepsilon \\in [0,5]$;\n",
    "- $\\alpha \\in [0,180)$;\n",
    "- $c\\in [-0.1, 0.1]$.\n",
    "\n",
    "For each array of parameters we compute the correspondig array of visibilities. We add white gaussian noise to the visibility value whose standard deviation in equal to $2\\sqrt{F}$.\\\n",
    "The training, validation and test set consist of $60000$, $20000$ and $20000$ pairs parameters/visibilities, respectively."
   ]
  },
  {
   "cell_type": "code",
   "execution_count": null,
   "id": "coral-channel",
   "metadata": {},
   "outputs": [],
   "source": [
    "# Path of the folder containing this jupiter notebook\n",
    "folder = '/Users/admin/Documents/GitHub/Code NN'\n",
    "\n",
    "n_train = 60000\n",
    "n_valid = 20000\n",
    "n_test  = 20000\n",
    "\n",
    "name = 'dataset_loop_complete'\n",
    "nets.VisGenerator_complete(folder + '/data/', n_train, n_valid, n_test, name)"
   ]
  }
 ],
 "metadata": {
  "kernelspec": {
   "display_name": "Python 3 (ipykernel)",
   "language": "python",
   "name": "python3"
  },
  "language_info": {
   "codemirror_mode": {
    "name": "ipython",
    "version": 3
   },
   "file_extension": ".py",
   "mimetype": "text/x-python",
   "name": "python",
   "nbconvert_exporter": "python",
   "pygments_lexer": "ipython3",
   "version": "3.9.6"
  }
 },
 "nbformat": 4,
 "nbformat_minor": 5
}
