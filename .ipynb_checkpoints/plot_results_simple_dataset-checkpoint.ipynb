{
 "cells": [
  {
   "cell_type": "markdown",
   "id": "polish-matthew",
   "metadata": {},
   "source": [
    "# Import statements"
   ]
  },
  {
   "cell_type": "code",
   "execution_count": null,
   "id": "anticipated-density",
   "metadata": {},
   "outputs": [],
   "source": [
    "import torch\n",
    "from numpy import load\n",
    "import nets\n",
    "import plots"
   ]
  },
  {
   "cell_type": "markdown",
   "id": "phantom-cinema",
   "metadata": {},
   "source": [
    "# Load networks and data"
   ]
  },
  {
   "cell_type": "code",
   "execution_count": null,
   "id": "apart-structure",
   "metadata": {},
   "outputs": [],
   "source": [
    "folder = '/Users/admin/Documents/GitHub/Parametric-inverse-problem-topology/'\n",
    "\n",
    "dimensions = [60, 3000, 3000, 3000, 3000, 1]\n",
    "\n",
    "device = \"cpu\"\n",
    "\n",
    "model_direct = nets.net_loop_simple_direct(dimensions).to(device)\n",
    "model_embedd = nets.net_loop_simple_embedd(dimensions).to(device)\n",
    "\n",
    "if device==\"cpu\":\n",
    "    model_direct.load_state_dict(torch.load(folder + 'results/Simple/Direct/weights/nn_direct_1000.pt',\\\n",
    "                                    map_location=torch.device('cpu')))\n",
    "    model_embedd.load_state_dict(torch.load(folder + 'results/Simple/Embedding/weights/nn_embedd_100.pt',\\\n",
    "                                    map_location=torch.device('cpu')))\n",
    "else:\n",
    "    model_direct.load_state_dict(torch.load(folder + 'results/Simple/Direct/weights/nn_direct_1000.pt'))\n",
    "    model_embedd.load_state_dict(torch.load(folder + 'results/Simple/Embedding/weights/nn_embedd_100.pt'))\n",
    "\n",
    "data = load(folder + 'data/dataset_loop_simple.npz')"
   ]
  },
  {
   "cell_type": "markdown",
   "id": "early-adobe",
   "metadata": {},
   "source": [
    "# Predictions direct approach"
   ]
  },
  {
   "cell_type": "code",
   "execution_count": null,
   "id": "conceptual-sacrifice",
   "metadata": {},
   "outputs": [],
   "source": [
    "plots.Plot_predictions_direct(model_direct, data, 'test', device)"
   ]
  },
  {
   "cell_type": "markdown",
   "id": "infrared-insured",
   "metadata": {},
   "source": [
    "# Predictions approach with embedding"
   ]
  },
  {
   "cell_type": "code",
   "execution_count": null,
   "id": "sharing-license",
   "metadata": {},
   "outputs": [],
   "source": [
    "plots.Plot_predictions_embedd(model_embedd, data, 'test', device)"
   ]
  },
  {
   "cell_type": "markdown",
   "id": "ancient-happiness",
   "metadata": {},
   "source": [
    "# Predictions overlapped"
   ]
  },
  {
   "cell_type": "code",
   "execution_count": null,
   "id": "legitimate-evanescence",
   "metadata": {},
   "outputs": [],
   "source": [
    "plots.Plot_predictions_overlapped(model_direct, model_embedd, data, 'test', device)"
   ]
  },
  {
   "cell_type": "markdown",
   "id": "delayed-bargain",
   "metadata": {},
   "source": [
    "# Test curvature"
   ]
  },
  {
   "cell_type": "code",
   "execution_count": null,
   "id": "initial-consistency",
   "metadata": {},
   "outputs": [],
   "source": [
    "plots.Plot_test_curvature(model_direct, model_embedd, folder, device)"
   ]
  }
 ],
 "metadata": {
  "kernelspec": {
   "display_name": "Python 3 (ipykernel)",
   "language": "python",
   "name": "python3"
  },
  "language_info": {
   "codemirror_mode": {
    "name": "ipython",
    "version": 3
   },
   "file_extension": ".py",
   "mimetype": "text/x-python",
   "name": "python",
   "nbconvert_exporter": "python",
   "pygments_lexer": "ipython3",
   "version": "3.9.6"
  }
 },
 "nbformat": 4,
 "nbformat_minor": 5
}
