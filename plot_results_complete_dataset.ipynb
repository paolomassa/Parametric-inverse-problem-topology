{
 "cells": [
  {
   "cell_type": "markdown",
   "id": "rubber-fabric",
   "metadata": {},
   "source": [
    "# Import statements"
   ]
  },
  {
   "cell_type": "code",
   "execution_count": null,
   "id": "center-electricity",
   "metadata": {},
   "outputs": [],
   "source": [
    "import torch\n",
    "from numpy import load\n",
    "import nets\n",
    "import plots\n",
    "import numpy as np"
   ]
  },
  {
   "cell_type": "markdown",
   "id": "western-tuning",
   "metadata": {},
   "source": [
    "# Plot loss"
   ]
  },
  {
   "cell_type": "code",
   "execution_count": null,
   "id": "amazing-exclusion",
   "metadata": {},
   "outputs": [],
   "source": [
    "# Path of the folder containing this jupyter notebook\n",
    "folder = '/Users/admin/Documents/GitHub/Parametric-inverse-problem-topology/'\n",
    "plots.Plot_loss(folder+'results/Complete')"
   ]
  },
  {
   "cell_type": "markdown",
   "id": "dangerous-principle",
   "metadata": {},
   "source": [
    "# Load networks and data"
   ]
  },
  {
   "cell_type": "code",
   "execution_count": null,
   "id": "automotive-cigarette",
   "metadata": {},
   "outputs": [],
   "source": [
    "dimensions = [60, 3000, 3000, 3000, 3000, 3000, 3000, 1]\n",
    "\n",
    "device = \"cpu\"\n",
    "\n",
    "model = nets.net_loop_complete(dimensions).to(device)\n",
    "\n",
    "# Choose weights corresponding to the minimum on the valiation set\n",
    "history = load(folder + 'results/Complete/history.npz')\n",
    "valid_loss = history['valid_loss']\n",
    "ind_min_valid = np.argmin(valid_loss)\n",
    "\n",
    "epochs_save = np.abs(np.linspace(100,1000,num=10))\n",
    "weights_ind = int(epochs_save[np.argmin(np.abs(epochs_save - ind_min_valid))])\n",
    "\n",
    "if device==\"cpu\":\n",
    "    model.load_state_dict(torch.load(folder + 'results/Complete/weights/nn_complete_' + str(weights_ind) + '.pt',\\\n",
    "                                    map_location=torch.device('cpu')))\n",
    "else:\n",
    "    model.load_state_dict(torch.load(folder + 'results/Complete/weights/nn_complete_' + str(weights_ind) + '.pt'))\n",
    "\n",
    "model.eval()\n",
    "\n",
    "data = load(folder + 'data/dataset_loop_complete.npz')"
   ]
  },
  {
   "cell_type": "markdown",
   "id": "detailed-indiana",
   "metadata": {},
   "source": [
    "# Plot predictions complete dataset"
   ]
  },
  {
   "cell_type": "code",
   "execution_count": null,
   "id": "recognized-target",
   "metadata": {},
   "outputs": [],
   "source": [
    "plots.Plot_results_complete(model, data, 'test', device)"
   ]
  }
 ],
 "metadata": {
  "kernelspec": {
   "display_name": "Python 3 (ipykernel)",
   "language": "python",
   "name": "python3"
  },
  "language_info": {
   "codemirror_mode": {
    "name": "ipython",
    "version": 3
   },
   "file_extension": ".py",
   "mimetype": "text/x-python",
   "name": "python",
   "nbconvert_exporter": "python",
   "pygments_lexer": "ipython3",
   "version": "3.9.6"
  }
 },
 "nbformat": 4,
 "nbformat_minor": 5
}
